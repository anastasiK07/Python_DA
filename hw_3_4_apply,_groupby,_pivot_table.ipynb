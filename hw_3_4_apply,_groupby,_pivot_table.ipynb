{
 "cells": [
  {
   "cell_type": "markdown",
   "metadata": {
    "id": "LwNpAFw_eTF3"
   },
   "source": [
    "#Домашнє завдання до тем apply(), groupby(), pivot_table()"
   ]
  },
  {
   "cell_type": "markdown",
   "metadata": {
    "id": "vP2PEJyq8Yrj"
   },
   "source": [
    "В цьому домашньому завданні продовжуємо працювати з набором даних `supermarket_sales.csv`."
   ]
  },
  {
   "cell_type": "markdown",
   "metadata": {
    "id": "dh9lfpDb8gBL"
   },
   "source": [
    "0. Імпортуйте бібліотеку pandas та зчитайте дані у змінну `df` типу `pandas.DataFrame`."
   ]
  },
  {
   "cell_type": "code",
   "execution_count": 1,
   "metadata": {
    "id": "xBI9gJMK8qnl"
   },
   "outputs": [],
   "source": [
    "import pandas as pd"
   ]
  },
  {
   "cell_type": "code",
   "execution_count": 2,
   "metadata": {},
   "outputs": [
    {
     "name": "stdout",
     "output_type": "stream",
     "text": [
      "<class 'pandas.core.frame.DataFrame'>\n"
     ]
    }
   ],
   "source": [
    "path = r\"C:\\Users\\a.nemogushcha\\OneDrive - ТОВ Смарт Дистрибюшн\\Documents\\Data_\\supermarket_sales.csv\"\n",
    "df = pd.read_csv(path)\n",
    "print(type(df))"
   ]
  },
  {
   "cell_type": "markdown",
   "metadata": {
    "id": "28638363"
   },
   "source": [
    "1. Дослідимо, який філіал супермаркету ('Branch') є найприбутковішим. Для цього знайдіть сумарний прибуток за кожним філіалом і виявіть, який філіал має найвищий."
   ]
  },
  {
   "cell_type": "code",
   "execution_count": 17,
   "metadata": {
    "ExecuteTime": {
     "end_time": "2022-11-01T17:27:42.023877Z",
     "start_time": "2022-11-01T17:27:42.020277Z"
    },
    "id": "916d731d"
   },
   "outputs": [
    {
     "name": "stdout",
     "output_type": "stream",
     "text": [
      "Найприбутковіший філіал: C\n",
      "Branch\n",
      "A    5057.1605\n",
      "B    5057.0320\n",
      "C    5265.1765\n",
      "Name: gross income, dtype: float64\n"
     ]
    }
   ],
   "source": [
    "branch_profit = df.groupby('Branch')['gross income'].sum()\n",
    "profitbranch = branch_profit.idxmax()\n",
    "print(\"Найприбутковіший філіал:\", profitbranch)\n",
    "print(branch_profit)"
   ]
  },
  {
   "cell_type": "markdown",
   "metadata": {
    "id": "2qL_OddUCZKK"
   },
   "source": [
    "2. В якому місті знайходиться філіал з найвищим прибутком? Може в тому місці нам розмітисти ще один магазин.  \n",
    "Знайдіть відповідь за допомогою функціоналу Pandas."
   ]
  },
  {
   "cell_type": "code",
   "execution_count": 26,
   "metadata": {
    "id": "bBJUc1dWCwdi"
   },
   "outputs": [
    {
     "data": {
      "text/plain": [
       "'Naypyitaw'"
      ]
     },
     "execution_count": 26,
     "metadata": {},
     "output_type": "execute_result"
    }
   ],
   "source": [
    "branchct = df[df['Branch'] == profitbranch]['City'].iloc[0]\n",
    "branchct"
   ]
  },
  {
   "cell_type": "markdown",
   "metadata": {
    "id": "6dec795f"
   },
   "source": [
    "3.1. Створіть зводну таблицю, яка покаже, скільки покупок (інвойсів) було зроблено в кожній з філій (`Branch`) за різними категоріями товарів. Запишіть таблицю в змінну `invoices_by_category` і виведіть змінну на екран.\n",
    "Ця таблиця допоможе проаналізувати, в якій філії купують найбільше товарів кожної з категорій."
   ]
  },
  {
   "cell_type": "code",
   "execution_count": 14,
   "metadata": {
    "id": "N7TfUBf4ZrkX"
   },
   "outputs": [
    {
     "data": {
      "text/html": [
       "<div>\n",
       "<style scoped>\n",
       "    .dataframe tbody tr th:only-of-type {\n",
       "        vertical-align: middle;\n",
       "    }\n",
       "\n",
       "    .dataframe tbody tr th {\n",
       "        vertical-align: top;\n",
       "    }\n",
       "\n",
       "    .dataframe thead th {\n",
       "        text-align: right;\n",
       "    }\n",
       "</style>\n",
       "<table border=\"1\" class=\"dataframe\">\n",
       "  <thead>\n",
       "    <tr style=\"text-align: right;\">\n",
       "      <th>Product line</th>\n",
       "      <th>Electronic accessories</th>\n",
       "      <th>Fashion accessories</th>\n",
       "      <th>Food and beverages</th>\n",
       "      <th>Health and beauty</th>\n",
       "      <th>Home and lifestyle</th>\n",
       "      <th>Sports and travel</th>\n",
       "    </tr>\n",
       "    <tr>\n",
       "      <th>Branch</th>\n",
       "      <th></th>\n",
       "      <th></th>\n",
       "      <th></th>\n",
       "      <th></th>\n",
       "      <th></th>\n",
       "      <th></th>\n",
       "    </tr>\n",
       "  </thead>\n",
       "  <tbody>\n",
       "    <tr>\n",
       "      <th>A</th>\n",
       "      <td>60</td>\n",
       "      <td>51</td>\n",
       "      <td>58</td>\n",
       "      <td>47</td>\n",
       "      <td>65</td>\n",
       "      <td>59</td>\n",
       "    </tr>\n",
       "    <tr>\n",
       "      <th>B</th>\n",
       "      <td>55</td>\n",
       "      <td>62</td>\n",
       "      <td>50</td>\n",
       "      <td>53</td>\n",
       "      <td>50</td>\n",
       "      <td>62</td>\n",
       "    </tr>\n",
       "    <tr>\n",
       "      <th>C</th>\n",
       "      <td>55</td>\n",
       "      <td>65</td>\n",
       "      <td>66</td>\n",
       "      <td>52</td>\n",
       "      <td>45</td>\n",
       "      <td>45</td>\n",
       "    </tr>\n",
       "  </tbody>\n",
       "</table>\n",
       "</div>"
      ],
      "text/plain": [
       "Product line  Electronic accessories  Fashion accessories  Food and beverages  \\\n",
       "Branch                                                                          \n",
       "A                                 60                   51                  58   \n",
       "B                                 55                   62                  50   \n",
       "C                                 55                   65                  66   \n",
       "\n",
       "Product line  Health and beauty  Home and lifestyle  Sports and travel  \n",
       "Branch                                                                  \n",
       "A                            47                  65                 59  \n",
       "B                            53                  50                 62  \n",
       "C                            52                  45                 45  "
      ]
     },
     "execution_count": 14,
     "metadata": {},
     "output_type": "execute_result"
    }
   ],
   "source": [
    "invoices_by_category = df.pivot_table(index='Branch', columns='Product line', values='Invoice ID', aggfunc='count')\n",
    "invoices_by_category"
   ]
  },
  {
   "cell_type": "markdown",
   "metadata": {
    "ExecuteTime": {
     "end_time": "2022-11-01T16:50:46.961201Z",
     "start_time": "2022-11-01T16:50:46.955894Z"
    },
    "id": "f5bbfa34"
   },
   "source": [
    "Очікуваний результат:"
   ]
  },
  {
   "cell_type": "markdown",
   "metadata": {
    "id": "34b9bcdc"
   },
   "source": [
    "![](https://drive.google.com/uc?export=view&id=1rueAdko6S3UxIHGtojetTxlES-EyM6Yb)"
   ]
  },
  {
   "cell_type": "markdown",
   "metadata": {
    "id": "woygDEA0OSwJ"
   },
   "source": [
    "3.2. Викристовуючи змінну `invoices_by_category` дайте відповідь програмно (тобто значення треба не просто знайти очима, а вивести за допомогою коду), в якому філіалі магазину (`Branch`) найбільше інвойсів із покупкою товарів категорії \"Електронні аксесуари\" (`Electronic accessories`)?\n"
   ]
  },
  {
   "cell_type": "code",
   "execution_count": 34,
   "metadata": {
    "id": "B5x8kTE-Qcq8"
   },
   "outputs": [
    {
     "name": "stdout",
     "output_type": "stream",
     "text": [
      "Філіал з найбільшою кількістю інвойсів у категорії - A\n",
      "Кількість: 60\n"
     ]
    }
   ],
   "source": [
    "branch_maxin = invoices_by_category['Electronic accessories'].idxmax()\n",
    "incount = invoices_by_category['Electronic accessories'].max()\n",
    "print(\"Філіал з найбільшою кількістю інвойсів у категорії -\", branch_maxin)\n",
    "print(\"Кількість:\", incount)"
   ]
  },
  {
   "cell_type": "markdown",
   "metadata": {
    "ExecuteTime": {
     "end_time": "2022-11-01T17:56:02.981755Z",
     "start_time": "2022-11-01T17:56:02.977086Z"
    },
    "id": "d005a2b8"
   },
   "source": [
    "4-6. **Творче завдання на розвиток аналітичного мислення**\n",
    "\n",
    "Крок 1. Сформулюйте ТРИ питання (гіпотези) до наявних даних, які допомогли б вам зрозуміти, які користувачі що, де та коли найбільше/найменше купують, аби дати на основі цих гіпотез рекомендації бізнесу. Звісно питання мають бути не тими, на які ми вже відповіли в завданнях модулю.\n",
    "\n",
    "Крок 2. Знайдіть відповіді на свої питання з допомогою функціоналу pandas.\n",
    "\n",
    "Крок 3. Напишіть, як відповідь на це питання може бути використана для прийняття бізнес рішень.   \n",
    "   \n",
    " Питання можуть бути будь-якої складності, але їх має бути 3. Кожне питання оцінюється як 1 завдання. Без виконання цього завдання ДЗ не приймається. Якщо є питання щодо виконання - пишіть у чат 🙌\n"
   ]
  },
  {
   "cell_type": "markdown",
   "metadata": {},
   "source": [
    "1. Залежність покупок від статі та категорії товару\n",
    "Проаналізувати хто які категорії купує частіше\n"
   ]
  },
  {
   "cell_type": "code",
   "execution_count": 41,
   "metadata": {},
   "outputs": [
    {
     "name": "stdout",
     "output_type": "stream",
     "text": [
      "Кількість покупок та загальний дохід за статтю та категорією товару:\n"
     ]
    },
    {
     "data": {
      "text/html": [
       "<div>\n",
       "<style scoped>\n",
       "    .dataframe tbody tr th:only-of-type {\n",
       "        vertical-align: middle;\n",
       "    }\n",
       "\n",
       "    .dataframe tbody tr th {\n",
       "        vertical-align: top;\n",
       "    }\n",
       "\n",
       "    .dataframe thead th {\n",
       "        text-align: right;\n",
       "    }\n",
       "</style>\n",
       "<table border=\"1\" class=\"dataframe\">\n",
       "  <thead>\n",
       "    <tr style=\"text-align: right;\">\n",
       "      <th></th>\n",
       "      <th>Gender</th>\n",
       "      <th>Product line</th>\n",
       "      <th>total_purchases</th>\n",
       "      <th>total_gross_</th>\n",
       "    </tr>\n",
       "  </thead>\n",
       "  <tbody>\n",
       "    <tr>\n",
       "      <th>0</th>\n",
       "      <td>Female</td>\n",
       "      <td>Electronic accessories</td>\n",
       "      <td>84</td>\n",
       "      <td>1290.5725</td>\n",
       "    </tr>\n",
       "    <tr>\n",
       "      <th>1</th>\n",
       "      <td>Female</td>\n",
       "      <td>Fashion accessories</td>\n",
       "      <td>96</td>\n",
       "      <td>1449.4000</td>\n",
       "    </tr>\n",
       "    <tr>\n",
       "      <th>2</th>\n",
       "      <td>Female</td>\n",
       "      <td>Food and beverages</td>\n",
       "      <td>90</td>\n",
       "      <td>1579.5675</td>\n",
       "    </tr>\n",
       "    <tr>\n",
       "      <th>3</th>\n",
       "      <td>Female</td>\n",
       "      <td>Health and beauty</td>\n",
       "      <td>64</td>\n",
       "      <td>883.8565</td>\n",
       "    </tr>\n",
       "    <tr>\n",
       "      <th>4</th>\n",
       "      <td>Female</td>\n",
       "      <td>Home and lifestyle</td>\n",
       "      <td>79</td>\n",
       "      <td>1430.3275</td>\n",
       "    </tr>\n",
       "    <tr>\n",
       "      <th>5</th>\n",
       "      <td>Female</td>\n",
       "      <td>Sports and travel</td>\n",
       "      <td>88</td>\n",
       "      <td>1360.7010</td>\n",
       "    </tr>\n",
       "    <tr>\n",
       "      <th>6</th>\n",
       "      <td>Male</td>\n",
       "      <td>Electronic accessories</td>\n",
       "      <td>86</td>\n",
       "      <td>1296.9290</td>\n",
       "    </tr>\n",
       "    <tr>\n",
       "      <th>7</th>\n",
       "      <td>Male</td>\n",
       "      <td>Fashion accessories</td>\n",
       "      <td>82</td>\n",
       "      <td>1136.5950</td>\n",
       "    </tr>\n",
       "    <tr>\n",
       "      <th>8</th>\n",
       "      <td>Male</td>\n",
       "      <td>Food and beverages</td>\n",
       "      <td>84</td>\n",
       "      <td>1093.9965</td>\n",
       "    </tr>\n",
       "    <tr>\n",
       "      <th>9</th>\n",
       "      <td>Male</td>\n",
       "      <td>Health and beauty</td>\n",
       "      <td>88</td>\n",
       "      <td>1458.7025</td>\n",
       "    </tr>\n",
       "    <tr>\n",
       "      <th>10</th>\n",
       "      <td>Male</td>\n",
       "      <td>Home and lifestyle</td>\n",
       "      <td>81</td>\n",
       "      <td>1134.5255</td>\n",
       "    </tr>\n",
       "    <tr>\n",
       "      <th>11</th>\n",
       "      <td>Male</td>\n",
       "      <td>Sports and travel</td>\n",
       "      <td>78</td>\n",
       "      <td>1264.1955</td>\n",
       "    </tr>\n",
       "  </tbody>\n",
       "</table>\n",
       "</div>"
      ],
      "text/plain": [
       "    Gender            Product line  total_purchases  total_gross_\n",
       "0   Female  Electronic accessories               84     1290.5725\n",
       "1   Female     Fashion accessories               96     1449.4000\n",
       "2   Female      Food and beverages               90     1579.5675\n",
       "3   Female       Health and beauty               64      883.8565\n",
       "4   Female      Home and lifestyle               79     1430.3275\n",
       "5   Female       Sports and travel               88     1360.7010\n",
       "6     Male  Electronic accessories               86     1296.9290\n",
       "7     Male     Fashion accessories               82     1136.5950\n",
       "8     Male      Food and beverages               84     1093.9965\n",
       "9     Male       Health and beauty               88     1458.7025\n",
       "10    Male      Home and lifestyle               81     1134.5255\n",
       "11    Male       Sports and travel               78     1264.1955"
      ]
     },
     "execution_count": 41,
     "metadata": {},
     "output_type": "execute_result"
    }
   ],
   "source": [
    "gender_product = df.groupby(['Gender', 'Product line']).agg(\n",
    "    total_purchases=('Invoice ID', 'count'),\n",
    "    total_gross_=('gross income', 'sum')).reset_index()\n",
    "\n",
    "print(\"Кількість покупок та загальний дохід за статтю та категорією товару:\")\n",
    "(gender_product)\n"
   ]
  },
  {
   "cell_type": "markdown",
   "metadata": {},
   "source": [
    "Бачимо, що більшість категорії товарів значно частіше купуються жіночою статтю, то можна адаптувати асортимент та його розташування"
   ]
  },
  {
   "cell_type": "markdown",
   "metadata": {},
   "source": [
    "2. Кількість прожажів по дням тижня\n",
    "Аналіз активних днів допоможе з логістикою, розширити асортимент, кількість та акціями"
   ]
  },
  {
   "cell_type": "code",
   "execution_count": 42,
   "metadata": {
    "id": "cM3cApWSZuRX"
   },
   "outputs": [
    {
     "data": {
      "text/plain": [
       "Weekday\n",
       "Wednesday    33\n",
       "Saturday     31\n",
       "Tuesday      26\n",
       "Sunday       23\n",
       "Monday       22\n",
       "Thursday     20\n",
       "Friday       19\n",
       "Name: count, dtype: int64"
      ]
     },
     "execution_count": 42,
     "metadata": {},
     "output_type": "execute_result"
    }
   ],
   "source": [
    "df['Date'] = pd.to_datetime(df['Date'])\n",
    "df['Weekday'] = df['Date'].dt.day_name()\n",
    "food_sales = df[df['Product line'] == 'Food and beverages']['Weekday'].value_counts()\n",
    "food_sales\n"
   ]
  },
  {
   "cell_type": "code",
   "execution_count": null,
   "metadata": {},
   "outputs": [],
   "source": [
    "Бачимо, ща в середу і суботу найбільше  покупок, можна в ці дні розширити асортимент, наповнити гарно магазин, зробити акціі, дегустаціі"
   ]
  },
  {
   "cell_type": "markdown",
   "metadata": {},
   "source": [
    "3. Яку категорію купують найчастіше\n",
    "Допоможе зрозуміти яку категорію слід просувати, та збільшити асортимент, поставити на видному місці"
   ]
  },
  {
   "cell_type": "code",
   "execution_count": 40,
   "metadata": {},
   "outputs": [
    {
     "name": "stdout",
     "output_type": "stream",
     "text": [
      "Product line\n",
      "Home and lifestyle        16.030331\n",
      "Sports and travel         15.812630\n",
      "Health and beauty         15.411572\n",
      "Food and beverages        15.365310\n",
      "Electronic accessories    15.220597\n",
      "Fashion accessories       14.528062\n",
      "Name: gross income, dtype: float64\n"
     ]
    }
   ],
   "source": [
    "avg_income_by_category = df.groupby('Product line')['gross income'].mean().sort_values(ascending=False)\n",
    "print(avg_income_by_category)\n"
   ]
  },
  {
   "cell_type": "markdown",
   "metadata": {},
   "source": [
    "Бачимо, що сама важлива категорія - Home and lifestyle. Збільшити асортимент, нові товари, пропозиціі, акціі"
   ]
  }
 ],
 "metadata": {
  "colab": {
   "provenance": []
  },
  "kernelspec": {
   "display_name": "Python 3 (ipykernel)",
   "language": "python",
   "name": "python3"
  },
  "language_info": {
   "codemirror_mode": {
    "name": "ipython",
    "version": 3
   },
   "file_extension": ".py",
   "mimetype": "text/x-python",
   "name": "python",
   "nbconvert_exporter": "python",
   "pygments_lexer": "ipython3",
   "version": "3.13.3"
  }
 },
 "nbformat": 4,
 "nbformat_minor": 4
}
