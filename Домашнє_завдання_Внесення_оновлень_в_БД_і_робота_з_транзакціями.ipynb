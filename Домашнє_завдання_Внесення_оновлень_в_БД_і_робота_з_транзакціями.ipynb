{
 "cells": [
  {
   "cell_type": "markdown",
   "metadata": {
    "id": "KRtr9pOrz8um"
   },
   "source": [
    "# Домашнє завдання: Внесення оновлень в БД і робота з транзакціями\n",
    "\n",
    "Це ДЗ передбачене під виконання на локальній машині. Виконання з Google Colab буде суттєво ускладнене.\n",
    "\n",
    "## Підготовка\n",
    "1. Переконайтесь, що у вас встановлены необхідні бібліотеки:\n",
    "   ```bash\n",
    "   pip install sqlalchemy pymysql pandas matplotlib seaborn python-dotenv\n",
    "   ```\n",
    "\n",
    "2. Створіть файл `.env` з параметрами підключення до бази даних classicmodels. Базу даних ви можете отримати через\n",
    "\n",
    "  - docker-контейнер згідно існтрукції в [документі](https://www.notion.so/hannapylieva/Docker-1eb94835849480c9b2e7f5dc22ee4df9), також відео інструкції присутні на платформі - уроки \"MySQL бази, клієнт для роботи з БД, Docker і ChatGPT для запитів\" та \"Як встановити Docker для роботи з базами даних без терміналу\"\n",
    "  - або встановивши локально цю БД - для цього перегляньте урок \"Опціонально. Встановлення MySQL та  БД Сlassicmodels локально\".\n",
    "  \n",
    "  Приклад `.env` файлу ми створювали в лекції. Ось його обовʼязкове наповнення:\n",
    "    ```\n",
    "    DB_HOST=your_host\n",
    "    DB_PORT=3306 або 3307 - той, який Ви налаштували\n",
    "    DB_USER=your_username\n",
    "    DB_PASSWORD=your_password\n",
    "    DB_NAME=classicmodels\n",
    "    ```\n",
    "  Якщо ви створили цей файл під час перегляду лекції - **новий створювати не треба**. Замініть лише назву БД, або пропишіть назву в коді створення підключення (замість отримання назви цільової БД зі змінних оточення). Але переконайтесь, що до `.env` файл лежить в тій самій папці, що і цей ноутбук.\n",
    "\n",
    "  **УВАГА!** НЕ копіюйте скрит для **створення** `.env` файлу. В лекції він наводиться для прикладу. І давалось пояснення, що в реальних проєктах ми НІКОЛИ не пишемо доступи до бази в коді. Копіювання скрипта для створення `.env` файлу сюди в ДЗ буде вважатись грубою помилкою і ми зніматимемо бали.\n",
    "\n",
    "3. Налаштуйте підключення через SQLAlchemy до БД за прикладом в лекції.\n",
    "\n",
    "Рекомендую вивести (відобразити) змінну engine після створення. Вона має бути не None! Якщо None - значить у Вас не підтягнулись налаштування з .env файла.\n",
    "\n",
    "Ви також можете налаштувати параметри підключення до БД без .env файла, просто прописавши текстом в відповідних місцях. Це - не рекомендований підхід.\n",
    "\n",
    "\n",
    "## Завдання\n",
    "\n",
    "### Завдання 1: Оновлення інформації про клієнта (2 бали)\n",
    "\n",
    "**Створіть функцію для оновлення контактної інформації клієнта** з наступними можливостями:\n",
    "- Оновлення телефону клієнта\n",
    "- Оновлення email (якщо поле існує)\n",
    "- Логування змін в окрему таблицю\n",
    "\n",
    "Використайте підхід з параметризованими запитами через `text()` та `UPDATE` оператор.\n",
    "\n",
    "Запустіть функцію і продемонструйте її роботу, запустивши SELECT, який допоможе це зробити.\n",
    "\n"
   ]
  },
  {
   "cell_type": "code",
   "execution_count": 11,
   "metadata": {
    "id": "u60cWg7m2l26"
   },
   "outputs": [],
   "source": [
    "import os\n",
    "import pandas as pd\n",
    "from sqlalchemy import create_engine, text\n",
    "from dotenv import load_dotenv\n",
    "\n",
    "load_dotenv(r\"C:\\Users\\a.nemogushcha\\OneDrive - ТОВ Смарт Дистрибюшн\\Documents\\SQL\\tvaya\\class.env\")\n",
    "\n",
    "DB_HOST = os.getenv(\"DB_HOST\")\n",
    "DB_PORT = os.getenv(\"DB_PORT\")\n",
    "DB_USER = os.getenv(\"DB_USER\")\n",
    "DB_PASSWORD = os.getenv(\"DB_PASSWORD\")\n",
    "DB_NAME = os.getenv(\"DB_NAME\")\n",
    "\n",
    "assert all([DB_HOST, DB_PORT, DB_USER, DB_PASSWORD, DB_NAME]), \"Не всі змінні з .env зчитані\"\n",
    "\n",
    "engine = create_engine(f\"mysql+pymysql://{DB_USER}:{DB_PASSWORD}@{DB_HOST}:{DB_PORT}/{DB_NAME}\")\n"
   ]
  },
  {
   "cell_type": "code",
   "execution_count": 12,
   "metadata": {},
   "outputs": [
    {
     "data": {
      "text/html": [
       "<div>\n",
       "<style scoped>\n",
       "    .dataframe tbody tr th:only-of-type {\n",
       "        vertical-align: middle;\n",
       "    }\n",
       "\n",
       "    .dataframe tbody tr th {\n",
       "        vertical-align: top;\n",
       "    }\n",
       "\n",
       "    .dataframe thead th {\n",
       "        text-align: right;\n",
       "    }\n",
       "</style>\n",
       "<table border=\"1\" class=\"dataframe\">\n",
       "  <thead>\n",
       "    <tr style=\"text-align: right;\">\n",
       "      <th></th>\n",
       "      <th>Tables_in_classicmodels</th>\n",
       "    </tr>\n",
       "  </thead>\n",
       "  <tbody>\n",
       "    <tr>\n",
       "      <th>0</th>\n",
       "      <td>customers</td>\n",
       "    </tr>\n",
       "    <tr>\n",
       "      <th>1</th>\n",
       "      <td>employees</td>\n",
       "    </tr>\n",
       "    <tr>\n",
       "      <th>2</th>\n",
       "      <td>offices</td>\n",
       "    </tr>\n",
       "    <tr>\n",
       "      <th>3</th>\n",
       "      <td>orderdetails</td>\n",
       "    </tr>\n",
       "    <tr>\n",
       "      <th>4</th>\n",
       "      <td>orders</td>\n",
       "    </tr>\n",
       "  </tbody>\n",
       "</table>\n",
       "</div>"
      ],
      "text/plain": [
       "  Tables_in_classicmodels\n",
       "0               customers\n",
       "1               employees\n",
       "2                 offices\n",
       "3            orderdetails\n",
       "4                  orders"
      ]
     },
     "execution_count": 12,
     "metadata": {},
     "output_type": "execute_result"
    }
   ],
   "source": [
    "tables = pd.read_sql(\"SHOW TABLES;\", con=engine)\n",
    "tables.head()"
   ]
  },
  {
   "cell_type": "code",
   "execution_count": 20,
   "metadata": {},
   "outputs": [],
   "source": [
    "def update_customer(customer_id: int, phone: str=None, city: str=None, addressLine1: str=None):\n",
    "  \n",
    "    set_parts = []\n",
    "    params = {\"id\": customer_id}\n",
    "\n",
    "    if phone is not None:\n",
    "        set_parts.append(\"phone = :phone\")\n",
    "        params[\"phone\"] = phone\n",
    "\n",
    "    if city is not None:\n",
    "        set_parts.append(\"city = :city\")\n",
    "        params[\"city\"] = city\n",
    "\n",
    "    if addressLine1 is not None:\n",
    "        set_parts.append(\"addressLine1 = :addressLine1\")\n",
    "        params[\"addressLine1\"] = addressLine1\n",
    "\n",
    "    if not set_parts:\n",
    "        raise ValueError(\"Не передано жодного поля для оновлення\")\n",
    "\n",
    "    sql = text(f\"\"\"\n",
    "        UPDATE customers\n",
    "        SET {\", \".join(set_parts)}\n",
    "        WHERE customerNumber = :id\n",
    "    \"\"\")\n",
    "\n",
    "    with engine.begin() as conn:\n",
    "        conn.execute(sql, params)\n"
   ]
  },
  {
   "cell_type": "code",
   "execution_count": 21,
   "metadata": {},
   "outputs": [
    {
     "data": {
      "text/html": [
       "<div>\n",
       "<style scoped>\n",
       "    .dataframe tbody tr th:only-of-type {\n",
       "        vertical-align: middle;\n",
       "    }\n",
       "\n",
       "    .dataframe tbody tr th {\n",
       "        vertical-align: top;\n",
       "    }\n",
       "\n",
       "    .dataframe thead th {\n",
       "        text-align: right;\n",
       "    }\n",
       "</style>\n",
       "<table border=\"1\" class=\"dataframe\">\n",
       "  <thead>\n",
       "    <tr style=\"text-align: right;\">\n",
       "      <th></th>\n",
       "      <th>customerNumber</th>\n",
       "      <th>customerName</th>\n",
       "      <th>phone</th>\n",
       "      <th>city</th>\n",
       "      <th>addressLine1</th>\n",
       "    </tr>\n",
       "  </thead>\n",
       "  <tbody>\n",
       "    <tr>\n",
       "      <th>0</th>\n",
       "      <td>103</td>\n",
       "      <td>Atelier graphique</td>\n",
       "      <td>555-1234</td>\n",
       "      <td>Kyiv</td>\n",
       "      <td>Main Ave 10</td>\n",
       "    </tr>\n",
       "  </tbody>\n",
       "</table>\n",
       "</div>"
      ],
      "text/plain": [
       "   customerNumber       customerName     phone  city addressLine1\n",
       "0             103  Atelier graphique  555-1234  Kyiv  Main Ave 10"
      ]
     },
     "execution_count": 21,
     "metadata": {},
     "output_type": "execute_result"
    }
   ],
   "source": [
    "\n",
    "before = pd.read_sql(\n",
    "    \"SELECT customerNumber, customerName, phone, city, addressLine1 FROM customers WHERE customerNumber = 103;\",\n",
    "    con=engine\n",
    ")\n",
    "before\n"
   ]
  },
  {
   "cell_type": "code",
   "execution_count": 22,
   "metadata": {},
   "outputs": [
    {
     "data": {
      "text/html": [
       "<div>\n",
       "<style scoped>\n",
       "    .dataframe tbody tr th:only-of-type {\n",
       "        vertical-align: middle;\n",
       "    }\n",
       "\n",
       "    .dataframe tbody tr th {\n",
       "        vertical-align: top;\n",
       "    }\n",
       "\n",
       "    .dataframe thead th {\n",
       "        text-align: right;\n",
       "    }\n",
       "</style>\n",
       "<table border=\"1\" class=\"dataframe\">\n",
       "  <thead>\n",
       "    <tr style=\"text-align: right;\">\n",
       "      <th></th>\n",
       "      <th>customerNumber</th>\n",
       "      <th>customerName</th>\n",
       "      <th>phone</th>\n",
       "      <th>city</th>\n",
       "      <th>addressLine1</th>\n",
       "    </tr>\n",
       "  </thead>\n",
       "  <tbody>\n",
       "    <tr>\n",
       "      <th>0</th>\n",
       "      <td>103</td>\n",
       "      <td>Atelier graphique</td>\n",
       "      <td>555-1234</td>\n",
       "      <td>Kyiv</td>\n",
       "      <td>Main Ave 10</td>\n",
       "    </tr>\n",
       "  </tbody>\n",
       "</table>\n",
       "</div>"
      ],
      "text/plain": [
       "   customerNumber       customerName     phone  city addressLine1\n",
       "0             103  Atelier graphique  555-1234  Kyiv  Main Ave 10"
      ]
     },
     "execution_count": 22,
     "metadata": {},
     "output_type": "execute_result"
    }
   ],
   "source": [
    "update_customer(customer_id=103, phone=\"555-1234\", city=\"Kyiv\", addressLine1=\"Main Ave 10\")\n",
    "\n",
    "\n",
    "after = pd.read_sql(\n",
    "    \"SELECT customerNumber, customerName, phone, city, addressLine1 FROM customers WHERE customerNumber = 103;\",\n",
    "    con=engine\n",
    ")\n",
    "after\n"
   ]
  },
  {
   "cell_type": "markdown",
   "metadata": {
    "id": "equimeUA0lh5"
   },
   "source": [
    "### Завдання 2: Створення нового замовлення з транзакцією (5 балів)\n",
    "\n",
    "**Реалізуйте процес створення нового замовлення** з наступними кроками в одній транзакції:\n",
    "- Створення запису в таблиці `orders`\n",
    "- Додавання товарних позицій в `orderdetails`\n",
    "- Перевірка наявності товарів на складі\n",
    "- Зменшення кількості товарів на складі\n",
    "\n",
    "Запустіть процес з тестовими даними і продемонструйте через SELECT, що процес успішно відпрацював і були виконані необхідні операції.\n",
    "\n",
    "\n"
   ]
  },
  {
   "cell_type": "code",
   "execution_count": 23,
   "metadata": {
    "id": "eo9mTVkW2mpe"
   },
   "outputs": [],
   "source": [
    "from sqlalchemy import text\n",
    "from datetime import date, timedelta\n"
   ]
  },
  {
   "cell_type": "code",
   "execution_count": 24,
   "metadata": {},
   "outputs": [],
   "source": [
    "def next_order_number(conn):\n",
    "    q = text(\"SELECT COALESCE(MAX(orderNumber), 0) + 1 AS next_id FROM orders;\")\n",
    "    return conn.execute(q).scalar()\n"
   ]
  },
  {
   "cell_type": "code",
   "execution_count": 30,
   "metadata": {},
   "outputs": [],
   "source": [
    "def create_order(customer_number: int, items, \n",
    "                 order_date=None, required_date=None, status=\"In Process\", comments=None):\n",
    "    \n",
    "    if order_date is None:\n",
    "        order_date = date.today()\n",
    "    if required_date is None:\n",
    "        required_date = order_date + timedelta(days=14)\n",
    "\n",
    "    if not items:\n",
    "        raise ValueError(\"Список items пуст\")\n",
    "\n",
    "    with engine.begin() as conn:  # begin => commit при успехе, rollback при исключении\n",
    "  \n",
    "        order_number = next_order_number(conn)\n",
    "\n",
    " \n",
    "        insert_order = text(\"\"\"\n",
    "            INSERT INTO orders (orderNumber, orderDate, requiredDate, status, comments, customerNumber)\n",
    "            VALUES (:orderNumber, :orderDate, :requiredDate, :status, :comments, :customerNumber)\n",
    "        \"\"\")\n",
    "        conn.execute(insert_order, dict(\n",
    "            orderNumber=order_number,\n",
    "            orderDate=order_date,\n",
    "            requiredDate=required_date,\n",
    "            status=status,\n",
    "            comments=comments,\n",
    "            customerNumber=customer_number\n",
    "        ))\n",
    "\n",
    "   \n",
    "        insert_detail = text(\"\"\"\n",
    "            INSERT INTO orderdetails\n",
    "                (orderNumber, productCode, quantityOrdered, priceEach, orderLineNumber)\n",
    "            VALUES (:orderNumber, :productCode, :quantityOrdered, :priceEach, :orderLineNumber)\n",
    "        \"\"\")\n",
    "   \n",
    "        select_product_for_update = text(\"\"\"\n",
    "            SELECT productCode, quantityInStock, MSRP\n",
    "            FROM products\n",
    "            WHERE productCode = :pc\n",
    "            FOR UPDATE\n",
    "        \"\"\")\n",
    "        update_stock = text(\"\"\"\n",
    "            UPDATE products\n",
    "            SET quantityInStock = quantityInStock - :qty\n",
    "            WHERE productCode = :pc\n",
    "        \"\"\")\n",
    "\n",
    "        line_no = 1\n",
    "        for it in items:\n",
    "            pc = it[\"productCode\"]\n",
    "            qty = int(it[\"quantity\"])\n",
    "\n",
    "     \n",
    "            row = conn.execute(select_product_for_update, {\"pc\": pc}).mappings().first()\n",
    "            if row is None:\n",
    "                raise ValueError(f\"productCode {pc} не найден\")\n",
    "\n",
    "            if row[\"quantityInStock\"] < qty:\n",
    "                raise ValueError(f\"Недостаточно запаса для {pc}: на складе {row['quantityInStock']}, нужно {qty}\")\n",
    "\n",
    "            price_each = row[\"MSRP\"]\n",
    "\n",
    "           \n",
    "            conn.execute(insert_detail, dict(\n",
    "                orderNumber=order_number,\n",
    "                productCode=pc,\n",
    "                quantityOrdered=qty,\n",
    "                priceEach=price_each,\n",
    "                orderLineNumber=line_no\n",
    "            ))\n",
    "            line_no += 1\n",
    "\n",
    "        \n",
    "            conn.execute(update_stock, {\"qty\": qty, \"pc\": pc})\n",
    "\n",
    "        return order_number\n"
   ]
  },
  {
   "cell_type": "code",
   "execution_count": 35,
   "metadata": {},
   "outputs": [
    {
     "name": "stdout",
     "output_type": "stream",
     "text": [
      "Замовлення створено: 10428\n"
     ]
    }
   ],
   "source": [
    "\n",
    "new_order = create_order(\n",
    "    customer_number=103,\n",
    "    items=[\n",
    "        {\"productCode\": \"S10_1678\", \"quantity\": 3},\n",
    "        {\"productCode\": \"S18_2248\", \"quantity\": 2},\n",
    "    ],\n",
    "    comments=\"New online order\"\n",
    ")\n",
    "print(\"Замовлення створено:\", new_order)\n",
    "\n"
   ]
  },
  {
   "cell_type": "code",
   "execution_count": 32,
   "metadata": {},
   "outputs": [
    {
     "data": {
      "text/html": [
       "<div>\n",
       "<style scoped>\n",
       "    .dataframe tbody tr th:only-of-type {\n",
       "        vertical-align: middle;\n",
       "    }\n",
       "\n",
       "    .dataframe tbody tr th {\n",
       "        vertical-align: top;\n",
       "    }\n",
       "\n",
       "    .dataframe thead th {\n",
       "        text-align: right;\n",
       "    }\n",
       "</style>\n",
       "<table border=\"1\" class=\"dataframe\">\n",
       "  <thead>\n",
       "    <tr style=\"text-align: right;\">\n",
       "      <th></th>\n",
       "      <th>orderNumber</th>\n",
       "      <th>orderDate</th>\n",
       "      <th>requiredDate</th>\n",
       "      <th>status</th>\n",
       "      <th>customerNumber</th>\n",
       "    </tr>\n",
       "  </thead>\n",
       "  <tbody>\n",
       "    <tr>\n",
       "      <th>0</th>\n",
       "      <td>10427</td>\n",
       "      <td>2025-08-08</td>\n",
       "      <td>2025-08-22</td>\n",
       "      <td>In Process</td>\n",
       "      <td>103</td>\n",
       "    </tr>\n",
       "  </tbody>\n",
       "</table>\n",
       "</div>"
      ],
      "text/plain": [
       "   orderNumber   orderDate requiredDate      status  customerNumber\n",
       "0        10427  2025-08-08   2025-08-22  In Process             103"
      ]
     },
     "metadata": {},
     "output_type": "display_data"
    }
   ],
   "source": [
    "hdr = pd.read_sql(\n",
    "    f\"SELECT orderNumber, orderDate, requiredDate, status, customerNumber FROM orders WHERE orderNumber = {new_order};\",\n",
    "    con=engine\n",
    ")\n",
    "display(hdr)\n",
    "\n"
   ]
  },
  {
   "cell_type": "code",
   "execution_count": 33,
   "metadata": {},
   "outputs": [
    {
     "data": {
      "text/html": [
       "<div>\n",
       "<style scoped>\n",
       "    .dataframe tbody tr th:only-of-type {\n",
       "        vertical-align: middle;\n",
       "    }\n",
       "\n",
       "    .dataframe tbody tr th {\n",
       "        vertical-align: top;\n",
       "    }\n",
       "\n",
       "    .dataframe thead th {\n",
       "        text-align: right;\n",
       "    }\n",
       "</style>\n",
       "<table border=\"1\" class=\"dataframe\">\n",
       "  <thead>\n",
       "    <tr style=\"text-align: right;\">\n",
       "      <th></th>\n",
       "      <th>orderNumber</th>\n",
       "      <th>productCode</th>\n",
       "      <th>productName</th>\n",
       "      <th>quantityOrdered</th>\n",
       "      <th>priceEach</th>\n",
       "      <th>orderLineNumber</th>\n",
       "    </tr>\n",
       "  </thead>\n",
       "  <tbody>\n",
       "    <tr>\n",
       "      <th>0</th>\n",
       "      <td>10427</td>\n",
       "      <td>S10_1678</td>\n",
       "      <td>1969 Harley Davidson Ultimate Chopper</td>\n",
       "      <td>3</td>\n",
       "      <td>95.70</td>\n",
       "      <td>1</td>\n",
       "    </tr>\n",
       "    <tr>\n",
       "      <th>1</th>\n",
       "      <td>10427</td>\n",
       "      <td>S18_2248</td>\n",
       "      <td>1911 Ford Town Car</td>\n",
       "      <td>2</td>\n",
       "      <td>60.54</td>\n",
       "      <td>2</td>\n",
       "    </tr>\n",
       "  </tbody>\n",
       "</table>\n",
       "</div>"
      ],
      "text/plain": [
       "   orderNumber productCode                            productName  \\\n",
       "0        10427    S10_1678  1969 Harley Davidson Ultimate Chopper   \n",
       "1        10427    S18_2248                     1911 Ford Town Car   \n",
       "\n",
       "   quantityOrdered  priceEach  orderLineNumber  \n",
       "0                3      95.70                1  \n",
       "1                2      60.54                2  "
      ]
     },
     "metadata": {},
     "output_type": "display_data"
    }
   ],
   "source": [
    "det = pd.read_sql(f\"\"\"\n",
    "    SELECT od.orderNumber, od.productCode, p.productName, od.quantityOrdered, od.priceEach, od.orderLineNumber\n",
    "    FROM orderdetails od\n",
    "    JOIN products p USING (productCode)\n",
    "    WHERE od.orderNumber = {new_order}\n",
    "    ORDER BY od.orderLineNumber\n",
    "\"\"\", con=engine)\n",
    "display(det)\n"
   ]
  },
  {
   "cell_type": "code",
   "execution_count": 34,
   "metadata": {},
   "outputs": [
    {
     "data": {
      "text/html": [
       "<div>\n",
       "<style scoped>\n",
       "    .dataframe tbody tr th:only-of-type {\n",
       "        vertical-align: middle;\n",
       "    }\n",
       "\n",
       "    .dataframe tbody tr th {\n",
       "        vertical-align: top;\n",
       "    }\n",
       "\n",
       "    .dataframe thead th {\n",
       "        text-align: right;\n",
       "    }\n",
       "</style>\n",
       "<table border=\"1\" class=\"dataframe\">\n",
       "  <thead>\n",
       "    <tr style=\"text-align: right;\">\n",
       "      <th></th>\n",
       "      <th>productCode</th>\n",
       "      <th>productName</th>\n",
       "      <th>quantityInStock</th>\n",
       "    </tr>\n",
       "  </thead>\n",
       "  <tbody>\n",
       "    <tr>\n",
       "      <th>0</th>\n",
       "      <td>S10_1678</td>\n",
       "      <td>1969 Harley Davidson Ultimate Chopper</td>\n",
       "      <td>7927</td>\n",
       "    </tr>\n",
       "    <tr>\n",
       "      <th>1</th>\n",
       "      <td>S18_2248</td>\n",
       "      <td>1911 Ford Town Car</td>\n",
       "      <td>536</td>\n",
       "    </tr>\n",
       "  </tbody>\n",
       "</table>\n",
       "</div>"
      ],
      "text/plain": [
       "  productCode                            productName  quantityInStock\n",
       "0    S10_1678  1969 Harley Davidson Ultimate Chopper             7927\n",
       "1    S18_2248                     1911 Ford Town Car              536"
      ]
     },
     "metadata": {},
     "output_type": "display_data"
    }
   ],
   "source": [
    "stock = pd.read_sql(\"\"\"\n",
    "    SELECT productCode, productName, quantityInStock\n",
    "    FROM products\n",
    "    WHERE productCode IN ('S10_1678','S18_2248')\n",
    "\"\"\", con=engine)\n",
    "display(stock)"
   ]
  },
  {
   "cell_type": "code",
   "execution_count": null,
   "metadata": {},
   "outputs": [],
   "source": []
  }
 ],
 "metadata": {
  "colab": {
   "provenance": []
  },
  "kernelspec": {
   "display_name": "Python 3 (ipykernel)",
   "language": "python",
   "name": "python3"
  },
  "language_info": {
   "codemirror_mode": {
    "name": "ipython",
    "version": 3
   },
   "file_extension": ".py",
   "mimetype": "text/x-python",
   "name": "python",
   "nbconvert_exporter": "python",
   "pygments_lexer": "ipython3",
   "version": "3.13.3"
  }
 },
 "nbformat": 4,
 "nbformat_minor": 4
}
